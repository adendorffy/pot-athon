{
 "cells": [
  {
   "cell_type": "code",
   "execution_count": 13,
   "metadata": {},
   "outputs": [
    {
     "name": "stdout",
     "output_type": "stream",
     "text": [
      "Data ready!\n"
     ]
    }
   ],
   "source": [
    "from sklearn.ensemble import StackingRegressor\n",
    "from sklearn.linear_model import LinearRegression, Ridge, Lasso\n",
    "from sklearn.ensemble import RandomForestRegressor, GradientBoostingRegressor\n",
    "from sklearn.svm import SVR\n",
    "from sklearn.preprocessing import PolynomialFeatures, StandardScaler\n",
    "from sklearn.neighbors import KNeighborsRegressor\n",
    "from sklearn.neural_network import MLPRegressor\n",
    "from sklearn.metrics import mean_squared_error, r2_score\n",
    "import pandas as pd\n",
    "import numpy as np\n",
    "from sklearn.model_selection import train_test_split, KFold, cross_val_score\n",
    "\n",
    "\n",
    "# Load the data\n",
    "train_df = pd.read_csv('data-v6/train/train.csv')\n",
    "test_df = pd.read_csv('data-v6/test/test.csv')\n",
    "valid_df = pd.read_csv('data-v6/valid/valid.csv')\n",
    "\n",
    "# Combine train and valid datasets for training\n",
    "train_df = pd.concat([train_df, valid_df])\n",
    "train_df = train_df[train_df['pothole_area_mm2'] <= 100000000]\n",
    "train_df = train_df.dropna()  \n",
    "test_df = test_df.dropna()\n",
    "\n",
    "total_train_df = pd.concat([train_df, test_df])\n",
    "\n",
    "train_df.to_csv('train_features.csv', index=False)\n",
    "\n",
    "X_train = train_df.drop(columns=['Bags used '])  # Replace 'target' with your target column name\n",
    "y_train = train_df['Bags used ']\n",
    "X_test = test_df.drop(columns=['Bags used '])  # Replace 'target' with your target column name\n",
    "y_test = test_df['Bags used ']\n",
    "\n",
    "print(\"Data ready!\")"
   ]
  },
  {
   "cell_type": "code",
   "execution_count": 8,
   "metadata": {},
   "outputs": [
    {
     "name": "stdout",
     "output_type": "stream",
     "text": [
      "Best Model Configuration:\n",
      "              Model        Optimal Configuration  Train MSE  Train R2  \\\n",
      "0  Ridge Regression  {'alpha': 0.1, 'degree': 1}   0.814519  0.316907   \n",
      "\n",
      "       Test MSE        Test R2  \n",
      "0  1.847207e+06 -201580.164586  \n"
     ]
    },
    {
     "name": "stderr",
     "output_type": "stream",
     "text": [
      "/home/alanaubuntu/.local/lib/python3.10/site-packages/sklearn/linear_model/_ridge.py:216: LinAlgWarning: Ill-conditioned matrix (rcond=5.80962e-24): result may not be accurate.\n",
      "  return linalg.solve(A, Xy, assume_a=\"pos\", overwrite_a=True).T\n",
      "/home/alanaubuntu/.local/lib/python3.10/site-packages/sklearn/linear_model/_ridge.py:216: LinAlgWarning: Ill-conditioned matrix (rcond=1.3224e-34): result may not be accurate.\n",
      "  return linalg.solve(A, Xy, assume_a=\"pos\", overwrite_a=True).T\n",
      "/home/alanaubuntu/.local/lib/python3.10/site-packages/sklearn/linear_model/_ridge.py:216: LinAlgWarning: Ill-conditioned matrix (rcond=5.80962e-23): result may not be accurate.\n",
      "  return linalg.solve(A, Xy, assume_a=\"pos\", overwrite_a=True).T\n",
      "/home/alanaubuntu/.local/lib/python3.10/site-packages/sklearn/linear_model/_ridge.py:216: LinAlgWarning: Ill-conditioned matrix (rcond=1.3224e-33): result may not be accurate.\n",
      "  return linalg.solve(A, Xy, assume_a=\"pos\", overwrite_a=True).T\n",
      "/home/alanaubuntu/.local/lib/python3.10/site-packages/sklearn/linear_model/_ridge.py:216: LinAlgWarning: Ill-conditioned matrix (rcond=5.80962e-22): result may not be accurate.\n",
      "  return linalg.solve(A, Xy, assume_a=\"pos\", overwrite_a=True).T\n",
      "/home/alanaubuntu/.local/lib/python3.10/site-packages/sklearn/linear_model/_ridge.py:216: LinAlgWarning: Ill-conditioned matrix (rcond=1.3224e-32): result may not be accurate.\n",
      "  return linalg.solve(A, Xy, assume_a=\"pos\", overwrite_a=True).T\n",
      "/home/alanaubuntu/.local/lib/python3.10/site-packages/sklearn/linear_model/_ridge.py:216: LinAlgWarning: Ill-conditioned matrix (rcond=2.90481e-21): result may not be accurate.\n",
      "  return linalg.solve(A, Xy, assume_a=\"pos\", overwrite_a=True).T\n",
      "/home/alanaubuntu/.local/lib/python3.10/site-packages/sklearn/linear_model/_ridge.py:216: LinAlgWarning: Ill-conditioned matrix (rcond=6.612e-32): result may not be accurate.\n",
      "  return linalg.solve(A, Xy, assume_a=\"pos\", overwrite_a=True).T\n",
      "/home/alanaubuntu/.local/lib/python3.10/site-packages/sklearn/linear_model/_ridge.py:216: LinAlgWarning: Ill-conditioned matrix (rcond=5.80962e-21): result may not be accurate.\n",
      "  return linalg.solve(A, Xy, assume_a=\"pos\", overwrite_a=True).T\n",
      "/home/alanaubuntu/.local/lib/python3.10/site-packages/sklearn/linear_model/_ridge.py:216: LinAlgWarning: Ill-conditioned matrix (rcond=1.3224e-31): result may not be accurate.\n",
      "  return linalg.solve(A, Xy, assume_a=\"pos\", overwrite_a=True).T\n"
     ]
    }
   ],
   "source": [
    "X_train_poly = PolynomialFeatures(degree=1).fit_transform(X_train)\n",
    "X_test_poly = PolynomialFeatures(degree=1).fit_transform(X_test)\n",
    "\n",
    "# Define hyperparameter configurations to test\n",
    "alpha_values = [0.1, 1.0, 10.0, 50.0, 100.0]\n",
    "degree_values = [1, 2, 3]\n",
    "\n",
    "# Initialize variables to store the best model\n",
    "best_model = None\n",
    "best_train_mse = float('inf')\n",
    "best_test_mse = float('inf')\n",
    "\n",
    "# Loop over different configurations\n",
    "for alpha in alpha_values:\n",
    "    for degree in degree_values:\n",
    "        # Create polynomial features\n",
    "        poly = PolynomialFeatures(degree=degree)\n",
    "        X_train_poly = poly.fit_transform(X_train)\n",
    "        X_test_poly = poly.transform(X_test)\n",
    "\n",
    "        # Initialize and train the Ridge model\n",
    "        model = Ridge(alpha=alpha)\n",
    "        model.fit(X_train_poly, y_train)\n",
    "\n",
    "        # Predict on training data\n",
    "        y_train_pred = model.predict(X_train_poly)\n",
    "        train_mse = mean_squared_error(y_train, y_train_pred)\n",
    "        train_r2 = r2_score(y_train, y_train_pred)\n",
    "\n",
    "        # Predict on test data\n",
    "        y_test_pred = model.predict(X_test_poly)\n",
    "        test_mse = mean_squared_error(y_test, y_test_pred)\n",
    "        test_r2 = r2_score(y_test, y_test_pred)\n",
    "\n",
    "        # Update the best model if this one is better\n",
    "        if test_mse < best_test_mse:\n",
    "            best_model = {\n",
    "                'Model': 'Ridge Regression',\n",
    "                'Optimal Configuration': {'alpha': alpha, 'degree': degree},\n",
    "                'Train MSE': train_mse,\n",
    "                'Train R2': train_r2,\n",
    "                'Test MSE': test_mse,\n",
    "                'Test R2': test_r2\n",
    "            }\n",
    "            best_train_mse = train_mse\n",
    "            best_test_mse = test_mse\n",
    "\n",
    "# Convert the best model's results to a DataFrame\n",
    "best_model_df = pd.DataFrame([best_model])\n",
    "\n",
    "print(\"Best Model Configuration:\")\n",
    "print(best_model_df)\n",
    "\n",
    "# Optional: Save the best model's results to a CSV file\n",
    "best_model_df.to_csv('best_ridge_regression_result.csv', index=False)"
   ]
  },
  {
   "cell_type": "code",
   "execution_count": 9,
   "metadata": {},
   "outputs": [
    {
     "name": "stdout",
     "output_type": "stream",
     "text": [
      "              Model        Optimal Configuration  Train MSE  Train R2  \\\n",
      "0  Ridge Regression  {'alpha': 0.1, 'degree': 1}   0.814519  0.316907   \n",
      "\n",
      "       Test MSE        Test R2  \n",
      "0  1.847207e+06 -201580.164586  \n"
     ]
    }
   ],
   "source": [
    "print(best_model_df)"
   ]
  },
  {
   "cell_type": "code",
   "execution_count": 15,
   "metadata": {},
   "outputs": [
    {
     "name": "stdout",
     "output_type": "stream",
     "text": [
      "Best Model Configuration Appended:\n",
      "              Model        Optimal Configuration  Train MSE  Train R2  \\\n",
      "0  Ridge Regression  {'alpha': 0.1, 'degree': 1}   0.814519  0.316907   \n",
      "1  Lasso Regression  {'alpha': 1.0, 'degree': 1}   1.192399  0.000000   \n",
      "\n",
      "       Test MSE        Test R2  \n",
      "0  1.847207e+06 -201580.164586  \n",
      "1  9.339497e+00      -0.019196  \n"
     ]
    }
   ],
   "source": [
    "# LINEAR LASSO REGRESSION\n",
    "\n",
    "scaler = StandardScaler()\n",
    "X_train_scaled = scaler.fit_transform(X_train)\n",
    "X_test_scaled = scaler.transform(X_test)\n",
    "\n",
    "# Define hyperparameter configurations to test\n",
    "alpha_values = [0.01, 0.1, 1.0, 10.0]\n",
    "degree_values = [1, 2, 3]\n",
    "\n",
    "# Initialize variables to store the best model\n",
    "best_model = None\n",
    "best_train_mse = float('inf')\n",
    "best_test_mse = float('inf')\n",
    "\n",
    "# Loop over different configurations\n",
    "for alpha in alpha_values:\n",
    "    for degree in degree_values:\n",
    "        # Create polynomial features\n",
    "        poly = PolynomialFeatures(degree=degree)\n",
    "        X_train_poly = poly.fit_transform(X_train_scaled)\n",
    "        X_test_poly = poly.transform(X_test_scaled)\n",
    "\n",
    "        # Initialize and train the Lasso model\n",
    "        model = Lasso(alpha=alpha, random_state=42, max_iter=10000)\n",
    "        model.fit(X_train_poly, y_train)\n",
    "\n",
    "        # Predict on training data\n",
    "        y_train_pred = model.predict(X_train_poly)\n",
    "        train_mse = mean_squared_error(y_train, y_train_pred)\n",
    "        train_r2 = r2_score(y_train, y_train_pred)\n",
    "\n",
    "        # Predict on test data\n",
    "        y_test_pred = model.predict(X_test_poly)\n",
    "        test_mse = mean_squared_error(y_test, y_test_pred)\n",
    "        test_r2 = r2_score(y_test, y_test_pred)\n",
    "\n",
    "        # Update the best model if this one is better\n",
    "        if test_mse < best_test_mse:\n",
    "            best_model = {\n",
    "                'Model': 'Lasso Regression',\n",
    "                'Optimal Configuration': {'alpha': alpha, 'degree': degree},\n",
    "                'Train MSE': train_mse,\n",
    "                'Train R2': train_r2,\n",
    "                'Test MSE': test_mse,\n",
    "                'Test R2': test_r2\n",
    "            }\n",
    "            best_train_mse = train_mse\n",
    "            best_test_mse = test_mse\n",
    "\n",
    "# Append the best model's results to the existing best_model_df\n",
    "if best_model is not None:\n",
    "    best_model_df = pd.concat([best_model_df, pd.DataFrame([best_model])], ignore_index=True)\n",
    "\n",
    "\n",
    "print(\"Best Model Configuration Appended:\")\n",
    "print(best_model_df)\n",
    "\n",
    "# Optional: Save the updated best_model_df to a CSV file\n",
    "best_model_df.to_csv('best_model_df.csv', index=False)\n",
    "\n"
   ]
  },
  {
   "cell_type": "code",
   "execution_count": null,
   "metadata": {},
   "outputs": [],
   "source": []
  }
 ],
 "metadata": {
  "kernelspec": {
   "display_name": "Python 3",
   "language": "python",
   "name": "python3"
  },
  "language_info": {
   "codemirror_mode": {
    "name": "ipython",
    "version": 3
   },
   "file_extension": ".py",
   "mimetype": "text/x-python",
   "name": "python",
   "nbconvert_exporter": "python",
   "pygments_lexer": "ipython3",
   "version": "3.10.12"
  }
 },
 "nbformat": 4,
 "nbformat_minor": 2
}
