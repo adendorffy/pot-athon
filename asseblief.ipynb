{
 "cells": [
  {
   "cell_type": "code",
   "execution_count": 8,
   "metadata": {},
   "outputs": [],
   "source": [
    "from sklearn.ensemble import StackingRegressor\n",
    "from sklearn.linear_model import LinearRegression, RidgeCV\n",
    "from sklearn.ensemble import RandomForestRegressor, GradientBoostingRegressor\n",
    "from sklearn.svm import SVR\n",
    "from sklearn.neighbors import KNeighborsRegressor\n",
    "from sklearn.neural_network import MLPRegressor\n",
    "from sklearn.metrics import mean_squared_error, r2_score\n",
    "import pandas as pd\n",
    "import numpy as np\n",
    "from sklearn.model_selection import train_test_split\n",
    "\n",
    "# Load the data\n",
    "train_df = pd.read_csv('train_area_features.csv')\n",
    "train_df = train_df.dropna(subset=['Bags'])\n",
    "X=train_df[['Area']]\n",
    "y = train_df['Bags']\n",
    "X_train, X_test, y_train, y_test = train_test_split(X, y, test_size=0.2, random_state=42)\n",
    "\n",
    "\n",
    "\n",
    "train_df.to_csv('train_features.csv', index=False)"
   ]
  },
  {
   "cell_type": "code",
   "execution_count": null,
   "metadata": {},
   "outputs": [],
   "source": []
  },
  {
   "cell_type": "code",
   "execution_count": 9,
   "metadata": {},
   "outputs": [
    {
     "name": "stdout",
     "output_type": "stream",
     "text": [
      "Meta-Learner: Linear Regression\n",
      "Training MSE: 1.6339, R^2: 0.0075\n",
      "Test MSE: 0.4673, R^2: -0.2381\n",
      "--------------------------------------------------\n",
      "Meta-Learner: RidgeCV\n",
      "Training MSE: 1.5875, R^2: 0.0357\n",
      "Test MSE: 0.4593, R^2: -0.2169\n",
      "--------------------------------------------------\n",
      "Meta-Learner: Random Forest\n",
      "Training MSE: 1.6082, R^2: 0.0231\n",
      "Test MSE: 0.5675, R^2: -0.5035\n",
      "--------------------------------------------------\n",
      "Meta-Learner: Gradient Boosting\n",
      "Training MSE: 1.7322, R^2: -0.0522\n",
      "Test MSE: 0.6579, R^2: -0.7431\n",
      "--------------------------------------------------\n",
      "Meta-Learner: MLP Regressor\n",
      "Training MSE: 1.8012, R^2: -0.0942\n",
      "Test MSE: 0.4685, R^2: -0.2414\n",
      "--------------------------------------------------\n"
     ]
    }
   ],
   "source": [
    "# STACKING REGRESSION ENSEMBLE MODEL\n",
    "\n",
    "base_learners = [\n",
    "    ('lr', LinearRegression()),\n",
    "    ('svr', SVR(kernel='rbf', C=0.1, epsilon=0.1)),\n",
    "    ('knn', KNeighborsRegressor(n_neighbors=10, p=1)),\n",
    "    ('rf', RandomForestRegressor(n_estimators=50, max_depth=20, min_samples_split=5))\n",
    "]\n",
    "\n",
    "meta_learners = {\n",
    "    'Linear Regression': LinearRegression(),\n",
    "    'RidgeCV': RidgeCV(),\n",
    "    'Random Forest': RandomForestRegressor(n_estimators=100, max_depth=10),\n",
    "    'Gradient Boosting': GradientBoostingRegressor(n_estimators=100, learning_rate=0.1),\n",
    "    'MLP Regressor': MLPRegressor(hidden_layer_sizes=(50, 50), max_iter=500),\n",
    "}\n",
    "\n",
    "valid_range = np.arange(0.05, 6.05, 0.05)\n",
    "\n",
    "# Function to snap predictions to the nearest valid value\n",
    "def snap_to_nearest_valid(predictions, valid_range):\n",
    "    return np.array([valid_range[np.abs(valid_range - pred).argmin()] for pred in predictions])\n",
    "\n",
    "\n",
    "for name, meta_learner in meta_learners.items():\n",
    "    # Build the stacking regressor\n",
    "    stacking_regressor = StackingRegressor(estimators=base_learners, final_estimator=meta_learner)\n",
    "    \n",
    "    # Fit the stacking regressor\n",
    "    stacking_regressor.fit(X_train, y_train)\n",
    "    \n",
    "    # Predict on training data\n",
    "    y_train_pred = stacking_regressor.predict(X_train)\n",
    "    y_train_pred_snapped = snap_to_nearest_valid(y_train_pred, valid_range)\n",
    "    train_mse = mean_squared_error(y_train, y_train_pred_snapped)\n",
    "    train_r2 = r2_score(y_train, y_train_pred_snapped)\n",
    "    \n",
    "    # Predict on test data\n",
    "    y_test_pred = stacking_regressor.predict(X_test)\n",
    "    y_test_pred_snapped = snap_to_nearest_valid(y_test_pred, valid_range)\n",
    "    test_mse = mean_squared_error(y_test, y_test_pred_snapped)\n",
    "    test_r2 = r2_score(y_test, y_test_pred_snapped)\n",
    "    \n",
    "    # Print results\n",
    "    print(f\"Meta-Learner: {name}\")\n",
    "    print(f\"Training MSE: {train_mse:.4f}, R^2: {train_r2:.4f}\")\n",
    "    print(f\"Test MSE: {test_mse:.4f}, R^2: {test_r2:.4f}\")\n",
    "    print(\"-\" * 50)"
   ]
  },
  {
   "cell_type": "code",
   "execution_count": 10,
   "metadata": {},
   "outputs": [
    {
     "name": "stdout",
     "output_type": "stream",
     "text": [
      "Predictions have been saved to 'their_test_predictions.csv'\n"
     ]
    }
   ],
   "source": [
    "import pandas as pd\n",
    "\n",
    "# Assuming `stacking_regressor` is the trained model with MLPRegressor as the meta-learner\n",
    "# Load the new dataset\n",
    "their_test_df = pd.read_csv('test_area_features.csv')\n",
    "\n",
    "# Preprocess the new data if necessary\n",
    "# Ensure the feature columns in 'their_test.csv' match those used during training\n",
    "# X_their_test = their_test_df.drop(columns=['pothole_id'])  # Drop the 'Pothole number' column if it exists\n",
    "\n",
    "# Make predictions\n",
    "predictions = stacking_regressor.predict(their_test_df[['Area']])\n",
    "\n",
    "# Create a DataFrame with 'Pothole number' and 'Bags used'\n",
    "results_df = pd.DataFrame({\n",
    "    'Pothole number': their_test_df['ID'],  # Assuming 'Pothole number' is a column in their_test_df\n",
    "    'Bags used': predictions\n",
    "})\n",
    "\n",
    "# Write the results to a .csv file\n",
    "results_df.to_csv('their_test_predictions.csv', index=False)\n",
    "\n",
    "print(\"Predictions have been saved to 'their_test_predictions.csv'\")"
   ]
  }
 ],
 "metadata": {
  "kernelspec": {
   "display_name": "Python 3",
   "language": "python",
   "name": "python3"
  },
  "language_info": {
   "codemirror_mode": {
    "name": "ipython",
    "version": 3
   },
   "file_extension": ".py",
   "mimetype": "text/x-python",
   "name": "python",
   "nbconvert_exporter": "python",
   "pygments_lexer": "ipython3",
   "version": "3.10.12"
  }
 },
 "nbformat": 4,
 "nbformat_minor": 2
}
