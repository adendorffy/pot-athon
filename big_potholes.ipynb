{
 "cells": [
  {
   "cell_type": "code",
   "execution_count": 55,
   "metadata": {},
   "outputs": [],
   "source": [
    "import pandas as pd\n",
    "from sklearn.model_selection import train_test_split\n",
    "from sklearn.ensemble import RandomForestClassifier, GradientBoostingRegressor\n",
    "from sklearn.metrics import classification_report, accuracy_score"
   ]
  },
  {
   "cell_type": "code",
   "execution_count": 56,
   "metadata": {},
   "outputs": [],
   "source": [
    "# Load data\n",
    "data = pd.read_csv('all_potholes_cm.csv')\n",
    "\n",
    "# Handle NaN values\n",
    "data['Bags used '] = data['Bags used '].fillna(data['Bags used '].median())\n",
    "data = data.dropna()"
   ]
  },
  {
   "cell_type": "code",
   "execution_count": 57,
   "metadata": {},
   "outputs": [],
   "source": [
    "# Calculate Z-scores\n",
    "data['z_score_area'] = stats.zscore(data['pothole_area_cm2'])\n",
    "data['z_score_bags'] = stats.zscore(data['Bags used '])"
   ]
  },
  {
   "cell_type": "code",
   "execution_count": 58,
   "metadata": {},
   "outputs": [],
   "source": [
    "# Define Z-score threshold for outliers\n",
    "z_threshold = 3\n",
    "\n",
    "# Label outliers\n",
    "data['is_outlier'] = data['z_score_bags'].abs() > z_threshold\n",
    "\n",
    "# Prepare features and labels for outlier detection\n",
    "X_outlier_classification = data[['pothole_area_mm2']]\n",
    "y_outlier_classification = data['is_outlier']"
   ]
  },
  {
   "cell_type": "code",
   "execution_count": 59,
   "metadata": {},
   "outputs": [
    {
     "name": "stdout",
     "output_type": "stream",
     "text": [
      "Accuracy: 0.9954441913439636\n",
      "Classification Report:\n",
      "              precision    recall  f1-score   support\n",
      "\n",
      "       False       1.00      1.00      1.00       866\n",
      "        True       0.83      0.83      0.83        12\n",
      "\n",
      "    accuracy                           1.00       878\n",
      "   macro avg       0.92      0.92      0.92       878\n",
      "weighted avg       1.00      1.00      1.00       878\n",
      "\n"
     ]
    }
   ],
   "source": [
    "# Split data into training and testing sets for outlier classification\n",
    "X_train_class, X_test_class, y_train_class, y_test_class = train_test_split(\n",
    "    X_outlier_classification, y_outlier_classification, test_size=0.2, random_state=42)\n",
    "\n",
    "\n",
    "# Train an outlier classifier\n",
    "outlier_classifier = RandomForestClassifier(random_state=42)\n",
    "outlier_classifier.fit(X_train_class, y_train_class)\n",
    "\n",
    "# Predict outliers\n",
    "data['predicted_outlier'] = outlier_classifier.predict(X_outlier_classification)\n",
    "\n",
    "# Evaluate the classifier\n",
    "accuracy = accuracy_score(y_outlier_classification, data['predicted_outlier'])\n",
    "report = classification_report(y_outlier_classification, data['predicted_outlier'])\n",
    "\n",
    "print(f\"Accuracy: {accuracy}\")\n",
    "print(\"Classification Report:\")\n",
    "print(report)\n"
   ]
  },
  {
   "cell_type": "code",
   "execution_count": 60,
   "metadata": {},
   "outputs": [],
   "source": [
    "# Separate outliers and non-outliers\n",
    "outliers = data[data['predicted_outlier'] == 1]\n",
    "non_outliers = data[data['predicted_outlier'] == 0]\n",
    "\n",
    "# Features and targets for non-outliers\n",
    "X_non_outliers = non_outliers[['pothole_area_cm2']]\n",
    "y_non_outliers = non_outliers['Bags used ']"
   ]
  },
  {
   "cell_type": "code",
   "execution_count": 61,
   "metadata": {},
   "outputs": [
    {
     "name": "stdout",
     "output_type": "stream",
     "text": [
      "\n",
      "Linear Regression Model Performance:\n",
      "Mean Absolute Error: 0.5163226296543371\n",
      "Mean Squared Error: 0.4625106723087785\n",
      "R² Score: -0.00017432299954189823\n",
      "\n",
      "SVR Model Performance:\n",
      "Mean Absolute Error: 0.45793995358841605\n",
      "Mean Squared Error: 0.5198765969246317\n",
      "R² Score: -0.1242275140956357\n",
      "\n",
      "Gradient Boosting Model Performance:\n",
      "Mean Absolute Error: 0.38803955181160527\n",
      "Mean Squared Error: 0.2957236268308798\n",
      "R² Score: 0.36050085766868356\n",
      "\n",
      "Random Forest Model Performance:\n",
      "Mean Absolute Error: 0.35142528735632195\n",
      "Mean Squared Error: 0.27677437068965516\n",
      "R² Score: 0.40147841898156356\n"
     ]
    }
   ],
   "source": [
    "# Split into training and testing sets for non-outliers\n",
    "X_train_non, X_test_non, y_train_non, y_test_non = train_test_split(\n",
    "    X_non_outliers, y_non_outliers, test_size=0.2, random_state=42)\n",
    "\n",
    "# Define models to test\n",
    "models = {\n",
    "    'Linear Regression': LinearRegression(),\n",
    "    'SVR': SVR(),\n",
    "    'Gradient Boosting': GradientBoostingRegressor(),\n",
    "    'Random Forest': RandomForestRegressor()\n",
    "}\n",
    "\n",
    "# Train and evaluate each model\n",
    "for name, model_non_outliers in models.items():\n",
    "    # Train a model for non-outliers\n",
    "    model_non_outliers.fit(X_train_non, y_train_non)\n",
    "\n",
    "    # Predict Bags used for non-outliers\n",
    "    non_outlier_predictions = model_non_outliers.predict(X_test_non)\n",
    "\n",
    "    # Evaluate the non-outlier model\n",
    "    mae_non = mean_absolute_error(y_test_non, non_outlier_predictions)\n",
    "    mse_non = mean_squared_error(y_test_non, non_outlier_predictions)\n",
    "    r2_non = r2_score(y_test_non, non_outlier_predictions)\n",
    "\n",
    "    print(f\"\\n{name} Model Performance:\")\n",
    "    print(f\"Mean Absolute Error: {mae_non}\")\n",
    "    print(f\"Mean Squared Error: {mse_non}\")\n",
    "    print(f\"R² Score: {r2_non}\")"
   ]
  },
  {
   "cell_type": "code",
   "execution_count": 62,
   "metadata": {},
   "outputs": [
    {
     "name": "stdout",
     "output_type": "stream",
     "text": [
      "Outlier Model Performance:\n",
      "Mean Absolute Error: 2.7669753434045066\n",
      "Mean Squared Error: 13.565702477418855\n",
      "R² Score: 0.08115655844387826\n"
     ]
    }
   ],
   "source": [
    "# Features and targets for outliers\n",
    "X_outliers = outliers[['pothole_area_cm2']]\n",
    "y_outliers = outliers['Bags used ']\n",
    "\n",
    "# Split into training and testing sets for outliers\n",
    "X_train_out, X_test_out, y_train_out, y_test_out = train_test_split(\n",
    "    X_outliers, y_outliers, test_size=0.2, random_state=42)\n",
    "\n",
    "# Train a model for outliers\n",
    "model_outliers = GradientBoostingRegressor()\n",
    "model_outliers.fit(X_train_out, y_train_out)\n",
    "\n",
    "# Predict Bags used for outliers\n",
    "outlier_predictions = model_outliers.predict(X_test_out)\n",
    "\n",
    "# Evaluate the outlier model\n",
    "mae_out = mean_absolute_error(y_test_out, outlier_predictions)\n",
    "mse_out = mean_squared_error(y_test_out, outlier_predictions)\n",
    "r2_out = r2_score(y_test_out, outlier_predictions)\n",
    "\n",
    "print(\"Outlier Model Performance:\")\n",
    "print(f\"Mean Absolute Error: {mae_out}\")\n",
    "print(f\"Mean Squared Error: {mse_out}\")\n",
    "print(f\"R² Score: {r2_out}\")"
   ]
  },
  {
   "cell_type": "code",
   "execution_count": 63,
   "metadata": {},
   "outputs": [
    {
     "name": "stdout",
     "output_type": "stream",
     "text": [
      "    pothole_id  pothole_area_mm2  pothole_area_cm2  predicted_outlier\n",
      "0          103      34177.806619         34.177807              False\n",
      "1          104      32175.824176         32.175824              False\n",
      "2         1040      10178.471248         10.178471              False\n",
      "3          105      43517.744288         43.517744              False\n",
      "4          108      88526.946108         88.526946              False\n",
      "5         1086       9549.806576          9.549807              False\n",
      "6         1115       6041.379310          6.041379              False\n",
      "7         1134       8403.361345          8.403361              False\n",
      "8          114      42108.291708         42.108292              False\n",
      "9         1161       3136.645963          3.136646              False\n",
      "10        1162        794.573946          0.794574              False\n",
      "11        1181      17981.257143         17.981257              False\n",
      "12        1198      17786.548530         17.786549              False\n",
      "13        1205       4997.596154          4.997596              False\n",
      "14        1250      14653.098982         14.653099              False\n",
      "15        1270      30512.323944         30.512324              False\n",
      "16        1278       3546.963277          3.546963              False\n",
      "17        1280       3728.000000          3.728000              False\n",
      "18        1296      14961.243360         14.961243              False\n",
      "19         143      15101.902174         15.101902              False\n",
      "20        1409      18269.259536         18.269260              False\n",
      "21        1430      20944.477376         20.944477              False\n",
      "22        1438      16427.629911         16.427630              False\n",
      "23         144      19179.071481         19.179071              False\n",
      "24         406      90525.714286         90.525714              False\n",
      "25         434      54427.895981         54.427896              False\n",
      "26         450      12765.432099         12.765432              False\n",
      "27         470      27835.164835         27.835165              False\n",
      "28         473      10839.714471         10.839714              False\n",
      "29         479      49399.286988         49.399287              False\n",
      "Predictions saved to 'their_test_predictions.csv'\n"
     ]
    },
    {
     "name": "stderr",
     "output_type": "stream",
     "text": [
      "/Users/daneladendorff/.pyenv/versions/3.10.8/lib/python3.10/site-packages/sklearn/base.py:493: UserWarning: X does not have valid feature names, but RandomForestRegressor was fitted with feature names\n",
      "  warnings.warn(\n",
      "/Users/daneladendorff/.pyenv/versions/3.10.8/lib/python3.10/site-packages/sklearn/base.py:493: UserWarning: X does not have valid feature names, but RandomForestRegressor was fitted with feature names\n",
      "  warnings.warn(\n",
      "/Users/daneladendorff/.pyenv/versions/3.10.8/lib/python3.10/site-packages/sklearn/base.py:493: UserWarning: X does not have valid feature names, but RandomForestRegressor was fitted with feature names\n",
      "  warnings.warn(\n",
      "/Users/daneladendorff/.pyenv/versions/3.10.8/lib/python3.10/site-packages/sklearn/base.py:493: UserWarning: X does not have valid feature names, but RandomForestRegressor was fitted with feature names\n",
      "  warnings.warn(\n",
      "/Users/daneladendorff/.pyenv/versions/3.10.8/lib/python3.10/site-packages/sklearn/base.py:493: UserWarning: X does not have valid feature names, but RandomForestRegressor was fitted with feature names\n",
      "  warnings.warn(\n",
      "/Users/daneladendorff/.pyenv/versions/3.10.8/lib/python3.10/site-packages/sklearn/base.py:493: UserWarning: X does not have valid feature names, but RandomForestRegressor was fitted with feature names\n",
      "  warnings.warn(\n",
      "/Users/daneladendorff/.pyenv/versions/3.10.8/lib/python3.10/site-packages/sklearn/base.py:493: UserWarning: X does not have valid feature names, but RandomForestRegressor was fitted with feature names\n",
      "  warnings.warn(\n",
      "/Users/daneladendorff/.pyenv/versions/3.10.8/lib/python3.10/site-packages/sklearn/base.py:493: UserWarning: X does not have valid feature names, but RandomForestRegressor was fitted with feature names\n",
      "  warnings.warn(\n",
      "/Users/daneladendorff/.pyenv/versions/3.10.8/lib/python3.10/site-packages/sklearn/base.py:493: UserWarning: X does not have valid feature names, but RandomForestRegressor was fitted with feature names\n",
      "  warnings.warn(\n",
      "/Users/daneladendorff/.pyenv/versions/3.10.8/lib/python3.10/site-packages/sklearn/base.py:493: UserWarning: X does not have valid feature names, but RandomForestRegressor was fitted with feature names\n",
      "  warnings.warn(\n",
      "/Users/daneladendorff/.pyenv/versions/3.10.8/lib/python3.10/site-packages/sklearn/base.py:493: UserWarning: X does not have valid feature names, but RandomForestRegressor was fitted with feature names\n",
      "  warnings.warn(\n",
      "/Users/daneladendorff/.pyenv/versions/3.10.8/lib/python3.10/site-packages/sklearn/base.py:493: UserWarning: X does not have valid feature names, but RandomForestRegressor was fitted with feature names\n",
      "  warnings.warn(\n",
      "/Users/daneladendorff/.pyenv/versions/3.10.8/lib/python3.10/site-packages/sklearn/base.py:493: UserWarning: X does not have valid feature names, but RandomForestRegressor was fitted with feature names\n",
      "  warnings.warn(\n",
      "/Users/daneladendorff/.pyenv/versions/3.10.8/lib/python3.10/site-packages/sklearn/base.py:493: UserWarning: X does not have valid feature names, but RandomForestRegressor was fitted with feature names\n",
      "  warnings.warn(\n",
      "/Users/daneladendorff/.pyenv/versions/3.10.8/lib/python3.10/site-packages/sklearn/base.py:493: UserWarning: X does not have valid feature names, but RandomForestRegressor was fitted with feature names\n",
      "  warnings.warn(\n",
      "/Users/daneladendorff/.pyenv/versions/3.10.8/lib/python3.10/site-packages/sklearn/base.py:493: UserWarning: X does not have valid feature names, but RandomForestRegressor was fitted with feature names\n",
      "  warnings.warn(\n",
      "/Users/daneladendorff/.pyenv/versions/3.10.8/lib/python3.10/site-packages/sklearn/base.py:493: UserWarning: X does not have valid feature names, but RandomForestRegressor was fitted with feature names\n",
      "  warnings.warn(\n",
      "/Users/daneladendorff/.pyenv/versions/3.10.8/lib/python3.10/site-packages/sklearn/base.py:493: UserWarning: X does not have valid feature names, but RandomForestRegressor was fitted with feature names\n",
      "  warnings.warn(\n",
      "/Users/daneladendorff/.pyenv/versions/3.10.8/lib/python3.10/site-packages/sklearn/base.py:493: UserWarning: X does not have valid feature names, but RandomForestRegressor was fitted with feature names\n",
      "  warnings.warn(\n",
      "/Users/daneladendorff/.pyenv/versions/3.10.8/lib/python3.10/site-packages/sklearn/base.py:493: UserWarning: X does not have valid feature names, but RandomForestRegressor was fitted with feature names\n",
      "  warnings.warn(\n",
      "/Users/daneladendorff/.pyenv/versions/3.10.8/lib/python3.10/site-packages/sklearn/base.py:493: UserWarning: X does not have valid feature names, but RandomForestRegressor was fitted with feature names\n",
      "  warnings.warn(\n",
      "/Users/daneladendorff/.pyenv/versions/3.10.8/lib/python3.10/site-packages/sklearn/base.py:493: UserWarning: X does not have valid feature names, but RandomForestRegressor was fitted with feature names\n",
      "  warnings.warn(\n",
      "/Users/daneladendorff/.pyenv/versions/3.10.8/lib/python3.10/site-packages/sklearn/base.py:493: UserWarning: X does not have valid feature names, but RandomForestRegressor was fitted with feature names\n",
      "  warnings.warn(\n",
      "/Users/daneladendorff/.pyenv/versions/3.10.8/lib/python3.10/site-packages/sklearn/base.py:493: UserWarning: X does not have valid feature names, but RandomForestRegressor was fitted with feature names\n",
      "  warnings.warn(\n",
      "/Users/daneladendorff/.pyenv/versions/3.10.8/lib/python3.10/site-packages/sklearn/base.py:493: UserWarning: X does not have valid feature names, but RandomForestRegressor was fitted with feature names\n",
      "  warnings.warn(\n",
      "/Users/daneladendorff/.pyenv/versions/3.10.8/lib/python3.10/site-packages/sklearn/base.py:493: UserWarning: X does not have valid feature names, but RandomForestRegressor was fitted with feature names\n",
      "  warnings.warn(\n",
      "/Users/daneladendorff/.pyenv/versions/3.10.8/lib/python3.10/site-packages/sklearn/base.py:493: UserWarning: X does not have valid feature names, but RandomForestRegressor was fitted with feature names\n",
      "  warnings.warn(\n",
      "/Users/daneladendorff/.pyenv/versions/3.10.8/lib/python3.10/site-packages/sklearn/base.py:493: UserWarning: X does not have valid feature names, but RandomForestRegressor was fitted with feature names\n",
      "  warnings.warn(\n",
      "/Users/daneladendorff/.pyenv/versions/3.10.8/lib/python3.10/site-packages/sklearn/base.py:493: UserWarning: X does not have valid feature names, but RandomForestRegressor was fitted with feature names\n",
      "  warnings.warn(\n",
      "/Users/daneladendorff/.pyenv/versions/3.10.8/lib/python3.10/site-packages/sklearn/base.py:493: UserWarning: X does not have valid feature names, but RandomForestRegressor was fitted with feature names\n",
      "  warnings.warn(\n"
     ]
    }
   ],
   "source": [
    "# Load the test data\n",
    "test_data = pd.read_csv('their_test.csv')\n",
    "\n",
    "# Calculate 'pothole_area_cm2'\n",
    "test_data['pothole_area_cm2'] = test_data['pothole_area_mm2'] / 1000\n",
    "\n",
    "# Predict outliers\n",
    "test_data['predicted_outlier'] = outlier_classifier.predict(test_data[['pothole_area_mm2']])\n",
    "\n",
    "print(test_data)\n",
    "# Predict Bags used based on whether they are outliers or not\n",
    "def predict_bags(row):\n",
    "    if row['predicted_outlier'] == 1:\n",
    "        return model_outliers.predict([[row['pothole_area_cm2']]])[0]\n",
    "    else:\n",
    "        return model_non_outliers.predict([[row['pothole_area_cm2']]])[0]\n",
    "\n",
    "test_data['Bags used'] = test_data.apply(predict_bags, axis=1)\n",
    "test_data['Pothole number'] = test_data['pothole_id']\n",
    "\n",
    "# Save predictions\n",
    "test_data[['Pothole number', 'Bags used']].to_csv('their_test_predictions.csv', index=False)\n",
    "\n",
    "print(\"Predictions saved to 'their_test_predictions.csv'\")"
   ]
  }
 ],
 "metadata": {
  "kernelspec": {
   "display_name": "Python 3",
   "language": "python",
   "name": "python3"
  },
  "language_info": {
   "codemirror_mode": {
    "name": "ipython",
    "version": 3
   },
   "file_extension": ".py",
   "mimetype": "text/x-python",
   "name": "python",
   "nbconvert_exporter": "python",
   "pygments_lexer": "ipython3",
   "version": "3.10.8"
  }
 },
 "nbformat": 4,
 "nbformat_minor": 2
}
