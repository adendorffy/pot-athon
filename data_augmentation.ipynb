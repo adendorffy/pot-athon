{
 "cells": [
  {
   "cell_type": "markdown",
   "metadata": {},
   "source": [
    "# Generate data from annotated data\n",
    "\n",
    "Download the annotations file in YOLO pytorch format, unzip, copy file and rename to annotated_data/\n",
    "\n",
    "Run each code block, ensuring that the file paths are correct"
   ]
  },
  {
   "cell_type": "code",
   "execution_count": 1,
   "metadata": {},
   "outputs": [],
   "source": [
    "import os\n",
    "import csv\n",
    "import cv2\n",
    "import glob"
   ]
  },
  {
   "cell_type": "markdown",
   "metadata": {},
   "source": [
    "## Training data"
   ]
  },
  {
   "cell_type": "code",
   "execution_count": 2,
   "metadata": {},
   "outputs": [
    {
     "name": "stdout",
     "output_type": "stream",
     "text": [
      "Processing complete!\n"
     ]
    }
   ],
   "source": [
    "# Paths\n",
    "csv_file_path_train = \"annotated_data/train/_annotations.csv\"\n",
    "image_folder_path_train = \"annotated_data/train/\"\n",
    "output_image_folder_train = \"data_2/train_images/\"\n",
    "output_annotation_folder = \"data_2/train_annotations/\"\n",
    "\n",
    "# Create output directories if they don't exist\n",
    "os.makedirs(output_image_folder_train, exist_ok=True)\n",
    "os.makedirs(output_annotation_folder, exist_ok=True)\n",
    "\n",
    "# Read CSV file\n",
    "with open(csv_file_path_train, \"r\") as csv_file:\n",
    "    lines = csv_file.readlines()[1:]\n",
    "\n",
    "annotations_dict = {}\n",
    "\n",
    "for line in lines:\n",
    "    image_name, width, height, class_id, xmin, ymin, xmax, ymax = line.strip().split(\",\")\n",
    "    image_number, _, version, _ = image_name.rsplit(\".\")\n",
    "    image_number = image_number.rsplit(\"_\")[0]\n",
    "\n",
    "    if class_id == \"L\":\n",
    "        class_id = 1\n",
    "    elif class_id == \"potholes\":\n",
    "        class_id = 0\n",
    "\n",
    "    img_width, img_height = int(width), int(height)\n",
    "    xmin, ymin, xmax, ymax = int(xmin), int(ymin), int(xmax), int(ymax)\n",
    "\n",
    "    x_center = (xmin + xmax) / 2.0 / img_width\n",
    "    y_center = (ymin + ymax) / 2.0 / img_height\n",
    "    width = (xmax - xmin) / img_width\n",
    "    height = (ymax - ymin) / img_height\n",
    "\n",
    "    if image_number not in annotations_dict:\n",
    "        annotations_dict[image_number] = {}\n",
    "\n",
    "    annotations_dict[image_number][version] = annotations_dict[image_number].get(version, []) + [\n",
    "        [class_id, x_center, y_center, width, height]\n",
    "    ]\n",
    "\n",
    "# Save images and annotations\n",
    "for image_path in glob.glob(os.path.join(image_folder_path_train, \"*.jpg\")):\n",
    "    image_name = os.path.basename(image_path)\n",
    "    image_number, _, version, _ = image_name.rsplit(\".\")\n",
    "    image_number = image_number.rsplit(\"_\")[0]\n",
    "\n",
    "    # Save image\n",
    "    image = cv2.imread(image_path)\n",
    "    output_image_path = os.path.join(output_image_folder_train, f\"{image_number}_{version}.jpg\")\n",
    "    cv2.imwrite(output_image_path, image)\n",
    "\n",
    "    # Save annotations\n",
    "    if image_number in annotations_dict and version in annotations_dict[image_number]:\n",
    "        output_annotation_path = os.path.join(output_annotation_folder, f\"{image_number}_{version}.txt\")\n",
    "        with open(output_annotation_path, 'w', newline='') as outfile:\n",
    "            writer = csv.writer(outfile, delimiter=' ')\n",
    "            for annotation in annotations_dict[image_number][version]:\n",
    "                writer.writerow(annotation)\n",
    "\n",
    "print(\"Processing complete!\")\n"
   ]
  },
  {
   "cell_type": "markdown",
   "metadata": {},
   "source": [
    "# Validation data"
   ]
  },
  {
   "cell_type": "code",
   "execution_count": 3,
   "metadata": {},
   "outputs": [
    {
     "name": "stdout",
     "output_type": "stream",
     "text": [
      "Processing complete!\n"
     ]
    }
   ],
   "source": [
    "csv_file_path_valid = \"annotated_data/valid/_annotations.csv\"\n",
    "image_folder_path_valid = \"annotated_data/valid/\"\n",
    "\n",
    "# Read CSV file\n",
    "with open(csv_file_path_valid, \"r\") as csv_file:\n",
    "    lines = csv_file.readlines()[1:]\n",
    "\n",
    "annotations_dict = {}\n",
    "\n",
    "for line in lines:\n",
    "    if len(line.strip()) > 1:\n",
    "        image_name, width, height, class_id, xmin, ymin, xmax, ymax = line.strip().split(\",\")\n",
    "        image_number, _, version, _ = image_name.rsplit(\".\")\n",
    "        image_number = image_number.rsplit(\"_\")[0]\n",
    "\n",
    "        if class_id == \"L\":\n",
    "            class_id = 1\n",
    "        elif class_id == \"potholes\":\n",
    "            class_id = 0\n",
    "\n",
    "        img_width, img_height = int(width), int(height)\n",
    "        xmin, ymin, xmax, ymax = int(xmin), int(ymin), int(xmax), int(ymax)\n",
    "\n",
    "        x_center = (xmin + xmax) / 2.0 / img_width\n",
    "        y_center = (ymin + ymax) / 2.0 / img_height\n",
    "        width = (xmax - xmin) / img_width\n",
    "        height = (ymax - ymin) / img_height\n",
    "\n",
    "        if image_number not in annotations_dict:\n",
    "            annotations_dict[image_number] = {}\n",
    "\n",
    "        annotations_dict[image_number][version] = annotations_dict[image_number].get(version, []) + [\n",
    "            [class_id, x_center, y_center, width, height]\n",
    "        ]\n",
    "\n",
    "# Save images and annotations\n",
    "for image_path in glob.glob(os.path.join(image_folder_path_valid, \"*.jpg\")):\n",
    "    image_name = os.path.basename(image_path)\n",
    "    image_number, _, version, _ = image_name.rsplit(\".\")\n",
    "    image_number = image_number.rsplit(\"_\")[0]\n",
    "\n",
    "    # Save image\n",
    "    image = cv2.imread(image_path)\n",
    "    output_image_path = os.path.join(output_image_folder_train, f\"{image_number}_{version}.jpg\")\n",
    "    cv2.imwrite(output_image_path, image)\n",
    "\n",
    "    # Save annotations\n",
    "    if image_number in annotations_dict and version in annotations_dict[image_number]:\n",
    "        output_annotation_path = os.path.join(output_annotation_folder, f\"{image_number}_{version}.txt\")\n",
    "        with open(output_annotation_path, 'w', newline='') as outfile:\n",
    "            writer = csv.writer(outfile, delimiter=' ')\n",
    "            for annotation in annotations_dict[image_number][version]:\n",
    "                writer.writerow(annotation)\n",
    "\n",
    "print(\"Processing complete!\")\n"
   ]
  },
  {
   "cell_type": "markdown",
   "metadata": {},
   "source": [
    "# Test data"
   ]
  },
  {
   "cell_type": "code",
   "execution_count": 4,
   "metadata": {},
   "outputs": [],
   "source": [
    "image_folder_path_test = \"annotated_data/test/\"\n",
    "output_image_folder_test = \"data_2/test_images/\"\n",
    "\n",
    "os.makedirs(output_image_folder_test, exist_ok=True)\n",
    "\n",
    "# Save images and annotations\n",
    "for image_path in glob.glob(os.path.join(image_folder_path_test, \"*.jpg\")):\n",
    "    image_name = os.path.basename(image_path)\n",
    "    image_number, _, version, _ = image_name.rsplit(\".\")\n",
    "    image_number = image_number.rsplit(\"_\")[0]\n",
    "\n",
    "    # Save image\n",
    "    image = cv2.imread(image_path)\n",
    "    output_image_path = os.path.join(output_image_folder_test, f\"{image_number}_{version}.jpg\")\n",
    "    cv2.imwrite(output_image_path, image)"
   ]
  },
  {
   "cell_type": "code",
   "execution_count": 5,
   "metadata": {},
   "outputs": [],
   "source": [
    "import csv, glob, os\n",
    " \n",
    "train_labels_path = \"data/train_labels.csv\"\n",
    "output_train_labels_path = \"data_2/train_labels.csv\"\n",
    "image_folder_path = \"annotated_data/train/\"\n",
    "\n",
    "# Read train_labels.csv\n",
    "labels_dict = {}\n",
    "with open(train_labels_path, \"r\") as labels_file:\n",
    "    reader = csv.reader(labels_file)\n",
    "    next(reader)  # Skip header\n",
    "    for row in reader:\n",
    "        pothole_number, bags = row\n",
    "        labels_dict[pothole_number] = bags\n",
    "        \n",
    "        \n",
    "# Create new train_labels.csv\n",
    "with open(output_train_labels_path, \"w\", newline='') as output_file:\n",
    "    writer = csv.writer(output_file)\n",
    "    writer.writerow([\"Pothole number\", \"Bags used\"])\n",
    "\n",
    "    for image_path in glob.glob(os.path.join(image_folder_path, \"*.jpg\")):\n",
    "        image_name = os.path.basename(image_path)\n",
    "        image_number, _, version, _ = image_name.rsplit(\".\")\n",
    "        image_number = image_number.rsplit(\"_\")[0].replace(\"p\", \"\")\n",
    "\n",
    "        if image_number in labels_dict:\n",
    "            bags = labels_dict[image_number]\n",
    "            writer.writerow([image_number+\"_\"+version, bags])"
   ]
  },
  {
   "cell_type": "code",
   "execution_count": 6,
   "metadata": {},
   "outputs": [
    {
     "name": "stdout",
     "output_type": "stream",
     "text": [
      "Processing complete!\n"
     ]
    }
   ],
   "source": [
    "# Paths\n",
    "test_image_folder = \"data_2/test_images/\"\n",
    "output_test_labels_path = \"data_2/test_labels.csv\"\n",
    "\n",
    "# Create output directory if it doesn't exist\n",
    "os.makedirs(os.path.dirname(output_test_labels_path), exist_ok=True)\n",
    "\n",
    "# Create new test_labels.csv\n",
    "with open(output_test_labels_path, \"w\", newline='') as output_file:\n",
    "    writer = csv.writer(output_file)\n",
    "    writer.writerow([\"Pothole number\", \"Bags used\"])\n",
    "\n",
    "    for image_path in glob.glob(os.path.join(test_image_folder, \"*.jpg\")):\n",
    "        image_name = os.path.basename(image_path)\n",
    "        image_number, version = image_name.rsplit(\"_\")\n",
    "        image_number = image_number.replace(\"p\", \"\")\n",
    "        version = version.replace(\".jpg\", \"\")\n",
    "        writer.writerow([image_number+\"_\"+version, None])\n",
    "\n",
    "print(\"Processing complete!\")"
   ]
  }
 ],
 "metadata": {
  "kernelspec": {
   "display_name": "Python 3",
   "language": "python",
   "name": "python3"
  },
  "language_info": {
   "codemirror_mode": {
    "name": "ipython",
    "version": 3
   },
   "file_extension": ".py",
   "mimetype": "text/x-python",
   "name": "python",
   "nbconvert_exporter": "python",
   "pygments_lexer": "ipython3",
   "version": "3.8.10"
  }
 },
 "nbformat": 4,
 "nbformat_minor": 2
}
