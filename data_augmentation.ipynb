{
 "cells": [
  {
   "cell_type": "markdown",
   "metadata": {},
   "source": [
    "# Generate data from annotated data\n",
    "\n",
    "Download the annotations file in YOLO pytorch format, unzip, copy file and rename to annotated_data/\n",
    "\n",
    "Run each code block, ensuring that the file paths are correct"
   ]
  },
  {
   "cell_type": "code",
   "execution_count": 1,
   "metadata": {},
   "outputs": [],
   "source": [
    "import os\n",
    "import csv\n",
    "import cv2\n",
    "import glob"
   ]
  },
  {
   "cell_type": "markdown",
   "metadata": {},
   "source": [
    "## Training data"
   ]
  },
  {
   "cell_type": "code",
   "execution_count": 2,
   "metadata": {},
   "outputs": [],
   "source": [
    "def process_train(csv_file_path, test_labels_csv, image_folder_path, output_images, output_images_test, output_annotations, output_annotations_test):\n",
    "    os.makedirs(output_images, exist_ok=True)\n",
    "    os.makedirs(output_annotations, exist_ok=True)\n",
    "    os.makedirs(output_images_test, exist_ok=True)\n",
    "    os.makedirs(output_annotations_test, exist_ok=True)\n",
    "    \n",
    "    with open(test_labels_csv, \"r\") as test_csv_file:\n",
    "        test_lines = test_csv_file.readlines()[1:]\n",
    "    test_image_ids = {int(line.split(\",\")[0].removeprefix(\"p\")) for line in test_lines}\n",
    "    \n",
    "    with open(csv_file_path, \"r\") as csv_file:\n",
    "        lines = csv_file.readlines()[1:]\n",
    "\n",
    "    annotations_dict = {}\n",
    "\n",
    "    for line in lines:\n",
    "        result = line.rsplit(\",\")\n",
    "        image_name, width, height, class_id, xmin, ymin, xmax, ymax = result\n",
    "        image_number, _, version, _ = image_name.rsplit(\".\")\n",
    "        image_number = image_number.rsplit(\"_\")[0]\n",
    "\n",
    "        if class_id == \"L\":\n",
    "            class_id = 1\n",
    "        elif class_id == \"potholes\":\n",
    "            class_id = 0\n",
    "\n",
    "        img_width, img_height = int(width), int(height)\n",
    "        xmin, ymin, xmax, ymax = int(xmin), int(ymin), int(xmax), int(ymax)\n",
    "\n",
    "        x_center = (xmin + xmax) / 2.0 / img_width\n",
    "        y_center = (ymin + ymax) / 2.0 / img_height\n",
    "        width = (xmax - xmin) / img_width\n",
    "        height = (ymax - ymin) / img_height\n",
    "\n",
    "        if image_number not in annotations_dict:\n",
    "            annotations_dict[image_number] = {}\n",
    "\n",
    "        annotations_dict[image_number] = [class_id, x_center, y_center, width, height]\n",
    "\n",
    "    for image_path in glob.glob(os.path.join(image_folder_path, \"*.jpg\")):\n",
    "        image_name = os.path.basename(image_path)\n",
    "        image_number, _, version, _ = image_name.rsplit(\".\")\n",
    "        image_number = int(image_number.rsplit(\"_\")[0].removeprefix(\"p\"))\n",
    "        \n",
    "        if image_number in test_image_ids:\n",
    "            output_image_path = os.path.join(output_images_test, f\"{image_number}.jpg\")\n",
    "            output_annotation_path = os.path.join(output_annotations_test, f\"{image_number}.txt\")\n",
    "        else:\n",
    "            output_image_path = os.path.join(output_images, f\"{image_number}.jpg\")\n",
    "            output_annotation_path = os.path.join(output_annotations, f\"{image_number}.txt\")\n",
    "\n",
    "        image = cv2.imread(image_path)\n",
    "        cv2.imwrite(output_image_path, image)\n",
    "        \n",
    "        image_number_p = \"p\"+str(image_number)\n",
    "        if image_number_p in annotations_dict:\n",
    "            with open(output_annotation_path, 'w', newline='') as outfile:\n",
    "                writer = csv.writer(outfile, delimiter=' ')\n",
    "                writer.writerow(annotations_dict[image_number_p])\n",
    "\n",
    "    print(\"Processing complete!\")\n"
   ]
  },
  {
   "cell_type": "markdown",
   "metadata": {},
   "source": [
    "### Train data"
   ]
  },
  {
   "cell_type": "code",
   "execution_count": 3,
   "metadata": {},
   "outputs": [
    {
     "name": "stdout",
     "output_type": "stream",
     "text": [
      "Processing complete!\n",
      "Processing complete!\n",
      "Processing complete!\n",
      "Processing complete!\n"
     ]
    }
   ],
   "source": [
    "# Paths\n",
    "csv_file_path_train = \"annotated_data/train/_annotations.csv\"\n",
    "image_folder_path_train = \"annotated_data/train/\"\n",
    "output_image_folder_train = \"data_2/train_images/\"\n",
    "output_annotations = \"data_2/train_annotations/\"\n",
    "\n",
    "output_image_folder_test = \"data_2/test_images/\"\n",
    "output_annotations_test = \"data_2/test_annotations/\"\n",
    "csv_file_path_test = \"annotated_data/test/_annotations.csv\"\n",
    "test_labels_csv = \"data/test_labels.csv\"\n",
    "\n",
    "process_train(csv_file_path_train, test_labels_csv, image_folder_path_train, output_image_folder_train, output_image_folder_test, output_annotations, output_annotations_test)\n",
    "\n",
    "csv_file_path_valid = \"annotated_data/valid/_annotations.csv\"\n",
    "image_folder_path_valid = \"annotated_data/valid/\"\n",
    "\n",
    "process_train(csv_file_path_valid, test_labels_csv, image_folder_path_valid, output_image_folder_train, output_image_folder_test, output_annotations, output_annotations_test)\n",
    "\n",
    "csv_file_path_test = \"annotated_data/test/_annotations.csv\"\n",
    "image_folder_path_test =  \"annotated_data/test/\"\n",
    "\n",
    "process_train(csv_file_path_test, test_labels_csv, image_folder_path_test, output_image_folder_train, output_image_folder_test, output_annotations, output_annotations_test)\n",
    "\n",
    "csv_file_path_test = \"annotated_data/their_test/_annotations.csv\"\n",
    "image_folder_path_test =  \"annotated_data/their_test/\"\n",
    "\n",
    "process_train(csv_file_path_test, test_labels_csv, image_folder_path_test, output_image_folder_train, output_image_folder_test, output_annotations, output_annotations_test)"
   ]
  },
  {
   "cell_type": "code",
   "execution_count": 4,
   "metadata": {},
   "outputs": [],
   "source": [
    "import csv, glob, os\n",
    " \n",
    "train_labels_path = \"data/train_labels.csv\"\n",
    "output_train_labels_path = \"data_2/train_labels.csv\"\n",
    "image_folder_path = \"annotated_data/train/\"\n",
    "\n",
    "# Read train_labels.csv\n",
    "labels_dict = {}\n",
    "with open(train_labels_path, \"r\") as labels_file:\n",
    "    reader = csv.reader(labels_file, delimiter=\"\\t\")\n",
    "    next(reader)  # Skip header\n",
    "    for row in reader:\n",
    "        pothole_number, bags = row\n",
    "        labels_dict[int(pothole_number)] = bags\n",
    "        \n",
    "# Create new train_labels.csv\n",
    "with open(output_train_labels_path, \"w\", newline='') as output_file:\n",
    "    writer = csv.writer(output_file)\n",
    "    writer.writerow([\"Pothole number\", \"Bags used\"])\n",
    "    \n",
    "    for image_path in glob.glob(os.path.join(image_folder_path, \"*.jpg\")):\n",
    "        image_name = os.path.basename(image_path)\n",
    "        image_number = int(image_name.rsplit(\"_\")[0].removeprefix(\"p\"))\n",
    "        if image_number in labels_dict:\n",
    "            bags = labels_dict[image_number]\n",
    "            image_name = os.path.basename(image_path)\n",
    "            writer.writerow([image_number, bags])"
   ]
  },
  {
   "cell_type": "code",
   "execution_count": 5,
   "metadata": {},
   "outputs": [
    {
     "name": "stdout",
     "output_type": "stream",
     "text": [
      "Processing complete!\n"
     ]
    }
   ],
   "source": [
    "# Paths\n",
    "test_image_folder = \"data_2/test_images/\"\n",
    "output_test_labels_path = \"data_2/test_labels.csv\"\n",
    "\n",
    "# Create output directory if it doesn't exist\n",
    "os.makedirs(os.path.dirname(output_test_labels_path), exist_ok=True)\n",
    "\n",
    "# Create new test_labels.csv\n",
    "with open(output_test_labels_path, \"w\", newline='') as output_file:\n",
    "    writer = csv.writer(output_file)\n",
    "    writer.writerow([\"Pothole number\", \"Bags used\"])\n",
    "\n",
    "    for image_path in glob.glob(os.path.join(test_image_folder, \"*.jpg\")):\n",
    "        image_name = os.path.basename(image_path)\n",
    "        image_number = image_name.replace(\".jpg\", \"\")\n",
    "        writer.writerow([image_number, None])\n",
    "\n",
    "print(\"Processing complete!\")"
   ]
  }
 ],
 "metadata": {
  "kernelspec": {
   "display_name": "Python 3",
   "language": "python",
   "name": "python3"
  },
  "language_info": {
   "codemirror_mode": {
    "name": "ipython",
    "version": 3
   },
   "file_extension": ".py",
   "mimetype": "text/x-python",
   "name": "python",
   "nbconvert_exporter": "python",
   "pygments_lexer": "ipython3",
   "version": "3.10.12"
  }
 },
 "nbformat": 4,
 "nbformat_minor": 2
}
