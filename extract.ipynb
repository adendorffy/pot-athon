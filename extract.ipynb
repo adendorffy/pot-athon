{
 "cells": [
  {
   "cell_type": "code",
   "execution_count": 2,
   "metadata": {},
   "outputs": [
    {
     "name": "stdout",
     "output_type": "stream",
     "text": [
      "Rows associated with images in data-v5/test/their_test have been removed.\n"
     ]
    }
   ],
   "source": [
    "import os\n",
    "import pandas as pd\n",
    "\n",
    "# Path to your CSV file\n",
    "csv_file = 'data-v5/test/_annotations.csv'\n",
    "\n",
    "# Path to the directory containing the images to exclude\n",
    "exclude_dir = 'data-v5/test/their_test'\n",
    "\n",
    "# Path to save the excluded rows\n",
    "excluded_csv = 'data-v5/test/their_test/_annotations.csv'\n",
    "\n",
    "# Get a list of image filenames (without path) in the exclude directory\n",
    "exclude_images = {os.path.basename(file) for file in os.listdir(exclude_dir)}\n",
    "\n",
    "# Load the CSV file into a DataFrame\n",
    "df = pd.read_csv(csv_file)\n",
    "\n",
    "# Split the DataFrame into rows to keep and rows to remove\n",
    "df_to_remove = df[df['filename'].isin(exclude_images)]\n",
    "filtered_df = df[~df['filename'].isin(exclude_images)]\n",
    "\n",
    "# Save the filtered DataFrame back to the CSV file\n",
    "filtered_df.to_csv(csv_file, index=False)\n",
    "\n",
    "# Save the removed rows into a new CSV file\n",
    "df_to_remove.to_csv(excluded_csv, index=False)\n",
    "\n",
    "print(f\"Rows associated with images in {exclude_dir} have been removed.\")"
   ]
  }
 ],
 "metadata": {
  "kernelspec": {
   "display_name": "Python 3",
   "language": "python",
   "name": "python3"
  },
  "language_info": {
   "codemirror_mode": {
    "name": "ipython",
    "version": 3
   },
   "file_extension": ".py",
   "mimetype": "text/x-python",
   "name": "python",
   "nbconvert_exporter": "python",
   "pygments_lexer": "ipython3",
   "version": "3.10.8"
  }
 },
 "nbformat": 4,
 "nbformat_minor": 2
}
