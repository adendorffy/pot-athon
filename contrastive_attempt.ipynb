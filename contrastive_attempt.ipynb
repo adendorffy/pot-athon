{
 "cells": [
  {
   "cell_type": "code",
   "execution_count": 6,
   "metadata": {},
   "outputs": [],
   "source": [
    "import torch\n",
    "import torch.nn as nn\n",
    "import torch.nn.functional as F\n",
    "from torch.utils.data import DataLoader, Dataset\n",
    "import numpy as np\n",
    "import pandas as pd\n",
    "\n",
    "# Load the data\n",
    "train_df = pd.read_csv('data-v6/train/train.csv')\n",
    "test_df = pd.read_csv('data-v6/test/test.csv')\n",
    "valid_df = pd.read_csv('data-v6/valid/valid.csv')\n",
    "\n",
    "# Combine train and valid datasets for training\n",
    "train_df = pd.concat([train_df, valid_df])\n",
    "train_df = train_df[train_df['pothole_area_mm2'] <= 100000000]\n",
    "train_df = train_df.dropna()  \n",
    "test_df = test_df.dropna()\n",
    "\n",
    "total_train_df = pd.concat([train_df, test_df])\n",
    "\n",
    "train_df.to_csv('train_features.csv', index=False)\n",
    "\n",
    "X_train = train_df.drop(columns=['Bags used '])  # Replace 'target' with your target column name\n",
    "y_train = train_df['Bags used ']\n",
    "X_test = test_df.drop(columns=['Bags used '])  # Replace 'target' with your target column name\n",
    "y_test = test_df['Bags used ']\n",
    "\n",
    "class ContrastivePotholeDataset(Dataset):\n",
    "    def __init__(self, dataframe):\n",
    "        self.dataframe = dataframe\n",
    "        self.features = dataframe.drop(columns=['Bags used ']).values\n",
    "        self.labels = dataframe['Bags used '].values\n",
    "\n",
    "    def __len__(self):\n",
    "        return len(self.dataframe)\n",
    "\n",
    "    def __getitem__(self, idx):\n",
    "        anchor_feature = self.features[idx]\n",
    "        anchor_label = self.labels[idx]\n",
    "\n",
    "        # Find a positive pair (a sample with a similar label)\n",
    "        positive_idx = torch.argmin(torch.abs(torch.tensor(self.labels) - anchor_label))\n",
    "        positive_feature = self.features[positive_idx]\n",
    "        positive_label = self.labels[positive_idx]\n",
    "\n",
    "        # Find a negative pair (a sample with a dissimilar label)\n",
    "        negative_idx = torch.argmax(torch.abs(torch.tensor(self.labels) - anchor_label))\n",
    "        negative_feature = self.features[negative_idx]\n",
    "        negative_label = self.labels[negative_idx]\n",
    "\n",
    "        return anchor_feature, positive_feature, negative_feature, anchor_label, positive_label, negative_label\n",
    "\n",
    "# Load the data into the dataset\n",
    "train_dataset = ContrastivePotholeDataset(train_df)\n",
    "\n",
    "# DataLoader for batching\n",
    "train_loader = DataLoader(train_dataset, batch_size=32, shuffle=True)\n"
   ]
  },
  {
   "cell_type": "code",
   "execution_count": 8,
   "metadata": {},
   "outputs": [],
   "source": [
    "import torch.nn as nn\n",
    "import torch.nn.functional as F\n",
    "\n",
    "# Define the triplet margin loss function\n",
    "class TripletMarginLoss(nn.Module):\n",
    "    def __init__(self, margin=1.0):\n",
    "        super(TripletMarginLoss, self).__init__()\n",
    "        self.margin = margin\n",
    "\n",
    "    def forward(self, anchor, positive, negative):\n",
    "        distance_positive = F.pairwise_distance(anchor, positive, p=2)\n",
    "        distance_negative = F.pairwise_distance(anchor, negative, p=2)\n",
    "        loss = torch.clamp(distance_positive - distance_negative + self.margin, min=0.0)\n",
    "        return loss.mean()"
   ]
  },
  {
   "cell_type": "code",
   "execution_count": 9,
   "metadata": {},
   "outputs": [],
   "source": [
    "class ContrastiveNet(nn.Module):\n",
    "    def __init__(self, input_dim):\n",
    "        super(ContrastiveNet, self).__init__()\n",
    "        self.fc1 = nn.Linear(input_dim, 128)\n",
    "        self.fc2 = nn.Linear(128, 64)\n",
    "        self.fc3 = nn.Linear(64, 32)\n",
    "\n",
    "    def forward(self, x):\n",
    "        x = F.relu(self.fc1(x))\n",
    "        x = F.relu(self.fc2(x))\n",
    "        x = self.fc3(x)  # Output embeddings\n",
    "        return x\n"
   ]
  },
  {
   "cell_type": "code",
   "execution_count": 10,
   "metadata": {},
   "outputs": [
    {
     "name": "stderr",
     "output_type": "stream",
     "text": [
      "/Users/daneladendorff/.pyenv/versions/3.10.8/lib/python3.10/site-packages/tqdm/auto.py:21: TqdmWarning: IProgress not found. Please update jupyter and ipywidgets. See https://ipywidgets.readthedocs.io/en/stable/user_install.html\n",
      "  from .autonotebook import tqdm as notebook_tqdm\n",
      "/var/folders/28/zkcgqyn17ts4d6vpcyxfsc2r0000gn/T/ipykernel_63088/1626696862.py:13: UserWarning: To copy construct from a tensor, it is recommended to use sourceTensor.clone().detach() or sourceTensor.clone().detach().requires_grad_(True), rather than torch.tensor(sourceTensor).\n",
      "  anchor_feature = torch.tensor(anchor_feature, dtype=torch.float32)\n",
      "/var/folders/28/zkcgqyn17ts4d6vpcyxfsc2r0000gn/T/ipykernel_63088/1626696862.py:14: UserWarning: To copy construct from a tensor, it is recommended to use sourceTensor.clone().detach() or sourceTensor.clone().detach().requires_grad_(True), rather than torch.tensor(sourceTensor).\n",
      "  positive_feature = torch.tensor(positive_feature, dtype=torch.float32)\n",
      "/var/folders/28/zkcgqyn17ts4d6vpcyxfsc2r0000gn/T/ipykernel_63088/1626696862.py:15: UserWarning: To copy construct from a tensor, it is recommended to use sourceTensor.clone().detach() or sourceTensor.clone().detach().requires_grad_(True), rather than torch.tensor(sourceTensor).\n",
      "  negative_feature = torch.tensor(negative_feature, dtype=torch.float32)\n"
     ]
    },
    {
     "name": "stdout",
     "output_type": "stream",
     "text": [
      "Epoch [1/20], Loss: 3057.9433\n",
      "Epoch [2/20], Loss: 273.4253\n",
      "Epoch [3/20], Loss: 268.8365\n",
      "Epoch [4/20], Loss: 73.9060\n",
      "Epoch [5/20], Loss: 1.1229\n",
      "Epoch [6/20], Loss: 1.0637\n",
      "Epoch [7/20], Loss: 18.4918\n",
      "Epoch [8/20], Loss: 1.0174\n",
      "Epoch [9/20], Loss: 1.0000\n",
      "Epoch [10/20], Loss: 1.0000\n",
      "Epoch [11/20], Loss: 1.0000\n",
      "Epoch [12/20], Loss: 1.0000\n",
      "Epoch [13/20], Loss: 1.0000\n",
      "Epoch [14/20], Loss: 1.0000\n",
      "Epoch [15/20], Loss: 1.0000\n",
      "Epoch [16/20], Loss: 1.0000\n",
      "Epoch [17/20], Loss: 1.0000\n",
      "Epoch [18/20], Loss: 1.0000\n",
      "Epoch [19/20], Loss: 1.0000\n",
      "Epoch [20/20], Loss: 1.0000\n"
     ]
    }
   ],
   "source": [
    "# Initialize the model, loss function, and optimizer\n",
    "input_dim = X_train.shape[1]\n",
    "model = ContrastiveNet(input_dim)\n",
    "criterion = TripletMarginLoss(margin=1.0)\n",
    "optimizer = torch.optim.Adam(model.parameters(), lr=0.001)\n",
    "\n",
    "# Training loop\n",
    "num_epochs = 20\n",
    "for epoch in range(num_epochs):\n",
    "    model.train()\n",
    "    running_loss = 0.0\n",
    "    for i, (anchor_feature, positive_feature, negative_feature, _, _, _) in enumerate(train_loader):\n",
    "        anchor_feature = torch.tensor(anchor_feature, dtype=torch.float32)\n",
    "        positive_feature = torch.tensor(positive_feature, dtype=torch.float32)\n",
    "        negative_feature = torch.tensor(negative_feature, dtype=torch.float32)\n",
    "\n",
    "        # Forward pass\n",
    "        anchor_output = model(anchor_feature)\n",
    "        positive_output = model(positive_feature)\n",
    "        negative_output = model(negative_feature)\n",
    "\n",
    "        # Calculate loss\n",
    "        loss = criterion(anchor_output, positive_output, negative_output)\n",
    "\n",
    "        # Backward pass and optimization\n",
    "        optimizer.zero_grad()\n",
    "        loss.backward()\n",
    "        optimizer.step()\n",
    "\n",
    "        running_loss += loss.item()\n",
    "\n",
    "    print(f'Epoch [{epoch+1}/{num_epochs}], Loss: {running_loss/len(train_loader):.4f}')\n"
   ]
  },
  {
   "cell_type": "code",
   "execution_count": 11,
   "metadata": {},
   "outputs": [],
   "source": [
    "# Extract embeddings for training data\n",
    "train_embeddings = model(torch.tensor(X_train.values, dtype=torch.float32)).detach().numpy()\n",
    "\n",
    "# Use these embeddings in a regression model (e.g., Bayesian Ridge, SVR, etc.)\n",
    "from sklearn.linear_model import BayesianRidge\n",
    "\n",
    "regression_model = BayesianRidge()\n",
    "regression_model.fit(train_embeddings, y_train)\n",
    "\n",
    "# Predict on the test set\n",
    "test_embeddings = model(torch.tensor(X_test.values, dtype=torch.float32)).detach().numpy()\n",
    "y_test_pred = regression_model.predict(test_embeddings)\n"
   ]
  },
  {
   "cell_type": "code",
   "execution_count": 12,
   "metadata": {},
   "outputs": [
    {
     "name": "stdout",
     "output_type": "stream",
     "text": [
      "Mean Squared Error: 8.8356\n"
     ]
    }
   ],
   "source": [
    "from sklearn.metrics import mean_squared_error\n",
    "\n",
    "mse = mean_squared_error(y_test, y_test_pred)\n",
    "print(f'Mean Squared Error: {mse:.4f}')\n"
   ]
  }
 ],
 "metadata": {
  "kernelspec": {
   "display_name": "Python 3",
   "language": "python",
   "name": "python3"
  },
  "language_info": {
   "codemirror_mode": {
    "name": "ipython",
    "version": 3
   },
   "file_extension": ".py",
   "mimetype": "text/x-python",
   "name": "python",
   "nbconvert_exporter": "python",
   "pygments_lexer": "ipython3",
   "version": "3.10.8"
  }
 },
 "nbformat": 4,
 "nbformat_minor": 2
}
